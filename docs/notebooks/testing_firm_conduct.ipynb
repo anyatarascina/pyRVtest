{
 "cells": [
  {
   "cell_type": "markdown",
   "metadata": {},
   "source": [
    "# Testing Firm Conduct with Cereal Data"
   ]
  },
  {
   "cell_type": "code",
   "execution_count": 1,
   "metadata": {
    "ExecuteTime": {
     "end_time": "2024-08-07T02:18:55.559955100Z",
     "start_time": "2024-08-07T02:18:49.672023300Z"
    }
   },
   "outputs": [
    {
     "data": {
      "text/plain": "'0.3.1'"
     },
     "execution_count": 1,
     "metadata": {},
     "output_type": "execute_result"
    }
   ],
   "source": [
    "import numpy as np\n",
    "import pandas as pd\n",
    "import pyblp\n",
    "import pyRVtest\n",
    "\n",
    "pyblp.options.digits = 2\n",
    "pyblp.options.verbose = False\n",
    "pyRVtest.options.digits = 2\n",
    "pyRVtest.__version__"
   ]
  },
  {
   "cell_type": "markdown",
   "metadata": {},
   "source": [
    "## Overview\n",
    "\n",
    "In this tutorial, we are going to use the :ref:`references: Nevo (2000)` fake cereal data which is provided in the [PyBLP](https://pyblp.readthedocs.io/en/stable/) package. PyBLP has excellent [documentation](https://pyblp.readthedocs.io/en/stable/index.html) including a thorough tutorial for estimating demand on this dataset which can be found [here](https://pyblp.readthedocs.io/en/stable/_notebooks/tutorial/nevo.html).\n",
    "\n",
    "Note that the data are originally designed to illustrate demand estimation. Thus, the following caveats should be kept in mind:\n",
    "\n",
    "* The application in this tutorial only serves the purpose to illustrate how pyRVtest works. The results we show should not be used to infer conduct or any other economic feature about the cereal industry.\n",
    "\n",
    "* To test conduct, a researcher generally needs data on both cost shifters, and strong excluded instruments. As the data was designed to perform demand estimation, it does not necessarily have the features that are desirable to test conduct in applications.\n",
    "\n",
    "* Hence, the specifications that we use below, including the specification of firm cost and the candidate conducts models, are just shown for illustrative purposes and may not be appropriate for the economic context of the cereal industry.\n",
    "\n",
    "The tutorial proceeds in the following steps:\n",
    "\n",
    "* [Load the main dataset](#Load-the-main-dataset)\n",
    "\n",
    "* [Estimate demand with PyBLP](#Estimate-demand-with-PyBLP)\n",
    "\n",
    "* [Test firm conduct with pyRVtest](#Test-firm-conduct-with-pyRVtest)"
   ]
  },
  {
   "cell_type": "markdown",
   "metadata": {},
   "source": [
    "## Load the main dataset\n",
    "\n",
    "First we will use [pandas](https://pandas.pydata.org/) to load the necessary datasets from PyBLP. We call the main data containing information on markets and product characteristics `product_data`. The important product characteristics for demand estimation in this data set are `price`, `sugar`, and `mushy`."
   ]
  },
  {
   "cell_type": "code",
   "execution_count": 2,
   "metadata": {
    "ExecuteTime": {
     "end_time": "2024-08-07T02:18:55.640726Z",
     "start_time": "2024-08-07T02:18:55.560956Z"
    }
   },
   "outputs": [
    {
     "data": {
      "text/plain": "  market_ids  city_ids  quarter product_ids  firm_ids  brand_ids    shares  \\\n0      C01Q1         1        1       F1B04         1          4  0.012417   \n1      C01Q1         1        1       F1B06         1          6  0.007809   \n2      C01Q1         1        1       F1B07         1          7  0.012995   \n3      C01Q1         1        1       F1B09         1          9  0.005770   \n4      C01Q1         1        1       F1B11         1         11  0.017934   \n\n     prices  sugar  mushy  ...  demand_instruments10  demand_instruments11  \\\n0  0.072088      2      1  ...              2.116358             -0.154708   \n1  0.114178     18      1  ...             -7.374091             -0.576412   \n2  0.132391      4      1  ...              2.187872             -0.207346   \n3  0.130344      3      0  ...              2.704576              0.040748   \n4  0.154823     12      0  ...              1.261242              0.034836   \n\n   demand_instruments12  demand_instruments13  demand_instruments14  \\\n0             -0.005796              0.014538              0.126244   \n1              0.012991              0.076143              0.029736   \n2              0.003509              0.091781              0.163773   \n3             -0.003724              0.094732              0.135274   \n4             -0.000568              0.102451              0.130640   \n\n   demand_instruments15  demand_instruments16  demand_instruments17  \\\n0              0.067345              0.068423              0.034800   \n1              0.087867              0.110501              0.087784   \n2              0.111881              0.108226              0.086439   \n3              0.088090              0.101767              0.101777   \n4              0.084818              0.101075              0.125169   \n\n   demand_instruments18  demand_instruments19  \n0              0.126346              0.035484  \n1              0.049872              0.072579  \n2              0.122347              0.101842  \n3              0.110741              0.104332  \n4              0.133464              0.121111  \n\n[5 rows x 30 columns]",
      "text/html": "<div>\n<style scoped>\n    .dataframe tbody tr th:only-of-type {\n        vertical-align: middle;\n    }\n\n    .dataframe tbody tr th {\n        vertical-align: top;\n    }\n\n    .dataframe thead th {\n        text-align: right;\n    }\n</style>\n<table border=\"1\" class=\"dataframe\">\n  <thead>\n    <tr style=\"text-align: right;\">\n      <th></th>\n      <th>market_ids</th>\n      <th>city_ids</th>\n      <th>quarter</th>\n      <th>product_ids</th>\n      <th>firm_ids</th>\n      <th>brand_ids</th>\n      <th>shares</th>\n      <th>prices</th>\n      <th>sugar</th>\n      <th>mushy</th>\n      <th>...</th>\n      <th>demand_instruments10</th>\n      <th>demand_instruments11</th>\n      <th>demand_instruments12</th>\n      <th>demand_instruments13</th>\n      <th>demand_instruments14</th>\n      <th>demand_instruments15</th>\n      <th>demand_instruments16</th>\n      <th>demand_instruments17</th>\n      <th>demand_instruments18</th>\n      <th>demand_instruments19</th>\n    </tr>\n  </thead>\n  <tbody>\n    <tr>\n      <th>0</th>\n      <td>C01Q1</td>\n      <td>1</td>\n      <td>1</td>\n      <td>F1B04</td>\n      <td>1</td>\n      <td>4</td>\n      <td>0.012417</td>\n      <td>0.072088</td>\n      <td>2</td>\n      <td>1</td>\n      <td>...</td>\n      <td>2.116358</td>\n      <td>-0.154708</td>\n      <td>-0.005796</td>\n      <td>0.014538</td>\n      <td>0.126244</td>\n      <td>0.067345</td>\n      <td>0.068423</td>\n      <td>0.034800</td>\n      <td>0.126346</td>\n      <td>0.035484</td>\n    </tr>\n    <tr>\n      <th>1</th>\n      <td>C01Q1</td>\n      <td>1</td>\n      <td>1</td>\n      <td>F1B06</td>\n      <td>1</td>\n      <td>6</td>\n      <td>0.007809</td>\n      <td>0.114178</td>\n      <td>18</td>\n      <td>1</td>\n      <td>...</td>\n      <td>-7.374091</td>\n      <td>-0.576412</td>\n      <td>0.012991</td>\n      <td>0.076143</td>\n      <td>0.029736</td>\n      <td>0.087867</td>\n      <td>0.110501</td>\n      <td>0.087784</td>\n      <td>0.049872</td>\n      <td>0.072579</td>\n    </tr>\n    <tr>\n      <th>2</th>\n      <td>C01Q1</td>\n      <td>1</td>\n      <td>1</td>\n      <td>F1B07</td>\n      <td>1</td>\n      <td>7</td>\n      <td>0.012995</td>\n      <td>0.132391</td>\n      <td>4</td>\n      <td>1</td>\n      <td>...</td>\n      <td>2.187872</td>\n      <td>-0.207346</td>\n      <td>0.003509</td>\n      <td>0.091781</td>\n      <td>0.163773</td>\n      <td>0.111881</td>\n      <td>0.108226</td>\n      <td>0.086439</td>\n      <td>0.122347</td>\n      <td>0.101842</td>\n    </tr>\n    <tr>\n      <th>3</th>\n      <td>C01Q1</td>\n      <td>1</td>\n      <td>1</td>\n      <td>F1B09</td>\n      <td>1</td>\n      <td>9</td>\n      <td>0.005770</td>\n      <td>0.130344</td>\n      <td>3</td>\n      <td>0</td>\n      <td>...</td>\n      <td>2.704576</td>\n      <td>0.040748</td>\n      <td>-0.003724</td>\n      <td>0.094732</td>\n      <td>0.135274</td>\n      <td>0.088090</td>\n      <td>0.101767</td>\n      <td>0.101777</td>\n      <td>0.110741</td>\n      <td>0.104332</td>\n    </tr>\n    <tr>\n      <th>4</th>\n      <td>C01Q1</td>\n      <td>1</td>\n      <td>1</td>\n      <td>F1B11</td>\n      <td>1</td>\n      <td>11</td>\n      <td>0.017934</td>\n      <td>0.154823</td>\n      <td>12</td>\n      <td>0</td>\n      <td>...</td>\n      <td>1.261242</td>\n      <td>0.034836</td>\n      <td>-0.000568</td>\n      <td>0.102451</td>\n      <td>0.130640</td>\n      <td>0.084818</td>\n      <td>0.101075</td>\n      <td>0.125169</td>\n      <td>0.133464</td>\n      <td>0.121111</td>\n    </tr>\n  </tbody>\n</table>\n<p>5 rows × 30 columns</p>\n</div>"
     },
     "execution_count": 2,
     "metadata": {},
     "output_type": "execute_result"
    }
   ],
   "source": [
    "product_data = pd.read_csv(pyblp.data.NEVO_PRODUCTS_LOCATION)\n",
    "product_data.head()"
   ]
  },
  {
   "cell_type": "markdown",
   "metadata": {},
   "source": [
    "It is possible to estimate demand and test conduct with other data, provided that they have the `product_data` structure described [here](https://pyblp.readthedocs.io/en/stable/_api/pyblp.Problem.html#pyblp.Problem).\n",
    "\n",
    "We will also load market demographics data from PyBLP and call this `agent_data`. This data contains draws of `income`, `income_squared`, `age`, and `child`."
   ]
  },
  {
   "cell_type": "code",
   "execution_count": 3,
   "metadata": {
    "ExecuteTime": {
     "end_time": "2024-08-07T02:18:55.771332800Z",
     "start_time": "2024-08-07T02:18:55.637724500Z"
    }
   },
   "outputs": [
    {
     "data": {
      "text/plain": "  market_ids  city_ids  quarter  weights    nodes0    nodes1    nodes2  \\\n0      C01Q1         1        1     0.05  0.434101 -1.500838 -1.151079   \n1      C01Q1         1        1     0.05 -0.726649  0.133182 -0.500750   \n2      C01Q1         1        1     0.05 -0.623061 -0.138241  0.797441   \n3      C01Q1         1        1     0.05 -0.041317  1.257136 -0.683054   \n4      C01Q1         1        1     0.05 -0.466691  0.226968  1.044424   \n\n     nodes3    income  income_squared       age     child  \n0  0.161017  0.495123        8.331304 -0.230109 -0.230851  \n1  0.129732  0.378762        6.121865 -2.532694  0.769149  \n2 -0.795549  0.105015        1.030803 -0.006965 -0.230851  \n3  0.259044 -1.485481      -25.583605 -0.827946  0.769149  \n4  0.092019 -0.316597       -6.517009 -0.230109 -0.230851  ",
      "text/html": "<div>\n<style scoped>\n    .dataframe tbody tr th:only-of-type {\n        vertical-align: middle;\n    }\n\n    .dataframe tbody tr th {\n        vertical-align: top;\n    }\n\n    .dataframe thead th {\n        text-align: right;\n    }\n</style>\n<table border=\"1\" class=\"dataframe\">\n  <thead>\n    <tr style=\"text-align: right;\">\n      <th></th>\n      <th>market_ids</th>\n      <th>city_ids</th>\n      <th>quarter</th>\n      <th>weights</th>\n      <th>nodes0</th>\n      <th>nodes1</th>\n      <th>nodes2</th>\n      <th>nodes3</th>\n      <th>income</th>\n      <th>income_squared</th>\n      <th>age</th>\n      <th>child</th>\n    </tr>\n  </thead>\n  <tbody>\n    <tr>\n      <th>0</th>\n      <td>C01Q1</td>\n      <td>1</td>\n      <td>1</td>\n      <td>0.05</td>\n      <td>0.434101</td>\n      <td>-1.500838</td>\n      <td>-1.151079</td>\n      <td>0.161017</td>\n      <td>0.495123</td>\n      <td>8.331304</td>\n      <td>-0.230109</td>\n      <td>-0.230851</td>\n    </tr>\n    <tr>\n      <th>1</th>\n      <td>C01Q1</td>\n      <td>1</td>\n      <td>1</td>\n      <td>0.05</td>\n      <td>-0.726649</td>\n      <td>0.133182</td>\n      <td>-0.500750</td>\n      <td>0.129732</td>\n      <td>0.378762</td>\n      <td>6.121865</td>\n      <td>-2.532694</td>\n      <td>0.769149</td>\n    </tr>\n    <tr>\n      <th>2</th>\n      <td>C01Q1</td>\n      <td>1</td>\n      <td>1</td>\n      <td>0.05</td>\n      <td>-0.623061</td>\n      <td>-0.138241</td>\n      <td>0.797441</td>\n      <td>-0.795549</td>\n      <td>0.105015</td>\n      <td>1.030803</td>\n      <td>-0.006965</td>\n      <td>-0.230851</td>\n    </tr>\n    <tr>\n      <th>3</th>\n      <td>C01Q1</td>\n      <td>1</td>\n      <td>1</td>\n      <td>0.05</td>\n      <td>-0.041317</td>\n      <td>1.257136</td>\n      <td>-0.683054</td>\n      <td>0.259044</td>\n      <td>-1.485481</td>\n      <td>-25.583605</td>\n      <td>-0.827946</td>\n      <td>0.769149</td>\n    </tr>\n    <tr>\n      <th>4</th>\n      <td>C01Q1</td>\n      <td>1</td>\n      <td>1</td>\n      <td>0.05</td>\n      <td>-0.466691</td>\n      <td>0.226968</td>\n      <td>1.044424</td>\n      <td>0.092019</td>\n      <td>-0.316597</td>\n      <td>-6.517009</td>\n      <td>-0.230109</td>\n      <td>-0.230851</td>\n    </tr>\n  </tbody>\n</table>\n</div>"
     },
     "execution_count": 3,
     "metadata": {},
     "output_type": "execute_result"
    }
   ],
   "source": [
    "agent_data = pd.read_csv(pyblp.data.NEVO_AGENTS_LOCATION)\n",
    "agent_data.head()"
   ]
  },
  {
   "cell_type": "markdown",
   "metadata": {},
   "source": [
    "## Estimate demand with PyBLP\n",
    "\n",
    "Next, we set up the demand estimation problem using :ref:`references: Conlon and Gortmaker (2020)`.\n",
    "\n",
    "In this example the linear characteristics in consumer preferences are price and product fixed effects. Nonlinear characteristics with random coefficients include a constant, `price`, `sugar`, and `mushy`.  For these variables, we are going to estimate both the variance of the random coefficient as well as demographic interactions for `income`, `income_squared`, `age`, and `child`. More info can be found [here](https://pyblp.readthedocs.io/en/stable/_api/pyblp.Problem.html).\n",
    "\n",
    "Running the problem setup yields output which summarizes the dimensions of the problem (see [here](https://pyblp.readthedocs.io/en/stable/_api/pyblp.Problem.html)) for description of each variable.  Also reported are the Formulations, i.e., the linear characteristics or non-linear characteristics for which we are estimating either variances or demographic interactions, and a list of the demographics being used.\n"
   ]
  },
  {
   "cell_type": "code",
   "execution_count": 4,
   "metadata": {
    "ExecuteTime": {
     "end_time": "2024-08-07T02:18:56.303339100Z",
     "start_time": "2024-08-07T02:18:55.712207700Z"
    }
   },
   "outputs": [
    {
     "data": {
      "text/plain": "Dimensions:\n=================================================\n T    N     F    I     K1    K2    D    MD    ED \n---  ----  ---  ----  ----  ----  ---  ----  ----\n94   2256   5   1880   1     4     4    20    1  \n=================================================\n\nFormulations:\n===================================================================\n       Column Indices:           0           1           2      3  \n-----------------------------  ------  --------------  -----  -----\n X1: Linear Characteristics    prices                              \nX2: Nonlinear Characteristics    1         prices      sugar  mushy\n       d: Demographics         income  income_squared   age   child\n==================================================================="
     },
     "execution_count": 4,
     "metadata": {},
     "output_type": "execute_result"
    }
   ],
   "source": [
    "pyblp_problem = pyblp.Problem(\n",
    "    product_formulations=(\n",
    "        pyblp.Formulation('0 + prices ', absorb='C(product_ids)'),\n",
    "        pyblp.Formulation('1 + prices + sugar + mushy'),\n",
    "    ),\n",
    "    agent_formulation=pyblp.Formulation('0 + income + income_squared + age + child'),\n",
    "    product_data=product_data,\n",
    "    agent_data=agent_data\n",
    ")\n",
    "pyblp_problem"
   ]
  },
  {
   "cell_type": "markdown",
   "metadata": {},
   "source": [
    "Next, we solve the demand estimation and store the results for use with the testing module.\n",
    "\n",
    "The output includes information on computation progress, as well as tables with the parameter estimates. A full list of the post-estimation output which can be queried is found [here](https://pyblp.readthedocs.io/en/stable/_api/pyblp.ProblemResults.html).\n"
   ]
  },
  {
   "cell_type": "code",
   "execution_count": 5,
   "metadata": {
    "ExecuteTime": {
     "end_time": "2024-08-07T02:19:39.518672900Z",
     "start_time": "2024-08-07T02:18:55.931768200Z"
    }
   },
   "outputs": [
    {
     "data": {
      "text/plain": "Problem Results Summary:\n=======================================================================================================\nGMM   Objective  Gradient      Hessian         Hessian     Clipped  Weighting Matrix  Covariance Matrix\nStep    Value      Norm    Min Eigenvalue  Max Eigenvalue  Shares   Condition Number  Condition Number \n----  ---------  --------  --------------  --------------  -------  ----------------  -----------------\n 1    +4.6E+00   +6.9E-06     +2.4E-05        +1.6E+04        0         +6.9E+07          +8.4E+08     \n=======================================================================================================\n\nCumulative Statistics:\n===========================================================================\nComputation  Optimizer  Optimization   Objective   Fixed Point  Contraction\n   Time      Converged   Iterations   Evaluations  Iterations   Evaluations\n-----------  ---------  ------------  -----------  -----------  -----------\n 00:00:44       Yes          51           57          46382       143959   \n===========================================================================\n\nNonlinear Coefficient Estimates (Robust SEs in Parentheses):\n=====================================================================================================================\nSigma:      1         prices      sugar       mushy     |   Pi:      income    income_squared     age        child   \n------  ----------  ----------  ----------  ----------  |  ------  ----------  --------------  ----------  ----------\n  1      +5.6E-01                                       |    1      +2.3E+00      +0.0E+00      +1.3E+00    +0.0E+00 \n        (+1.6E-01)                                      |          (+1.2E+00)                  (+6.3E-01)            \n                                                        |                                                            \nprices   +0.0E+00    +3.3E+00                           |  prices   +5.9E+02      -3.0E+01      +0.0E+00    +1.1E+01 \n                    (+1.3E+00)                          |          (+2.7E+02)    (+1.4E+01)                (+4.1E+00)\n                                                        |                                                            \nsugar    +0.0E+00    +0.0E+00    -5.8E-03               |  sugar    -3.8E-01      +0.0E+00      +5.2E-02    +0.0E+00 \n                                (+1.4E-02)              |          (+1.2E-01)                  (+2.6E-02)            \n                                                        |                                                            \nmushy    +0.0E+00    +0.0E+00    +0.0E+00    +9.3E-02   |  mushy    +7.5E-01      +0.0E+00      -1.4E+00    +0.0E+00 \n                                            (+1.9E-01)  |          (+8.0E-01)                  (+6.7E-01)            \n=====================================================================================================================\n\nBeta Estimates (Robust SEs in Parentheses):\n==========\n  prices  \n----------\n -6.3E+01 \n(+1.5E+01)\n=========="
     },
     "execution_count": 5,
     "metadata": {},
     "output_type": "execute_result"
    }
   ],
   "source": [
    "pyblp_results = pyblp_problem.solve(\n",
    "  sigma=np.diag([0.3302, 2.4526, 0.0163, 0.2441]),\n",
    "  pi=[\n",
    "      [5.4819,   0.0000,  0.2037, 0.0000],\n",
    "      [15.8935, -1.2000,  0.0000, 2.6342],\n",
    "      [-0.2506,  0.0000,  0.0511, 0.0000],\n",
    "      [1.2650,   0.0000, -0.8091, 0.0000]\n",
    "  ],\n",
    "  method='1s',\n",
    "  optimization=pyblp.Optimization('bfgs', {'gtol': 1e-5})\n",
    ")\n",
    "pyblp_results"
   ]
  },
  {
   "cell_type": "markdown",
   "metadata": {},
   "source": [
    "## Test firm conduct with pyRVtest\n",
    "\n",
    "pyRVtest follows a similar structure to PyBLP.  First, you set up the testing problem, then you run the test."
   ]
  },
  {
   "cell_type": "markdown",
   "metadata": {},
   "source": [
    "### Setting Up Testing Problem\n",
    "\n",
    "Here is a simple example of the code to set up the testing problem for testing between two models:\n",
    " 1. manufacturers set retail prices according to Bertrand vs\n",
    " 2. manufacturers set retail prices according to monopoly (i.e., perfect collusion).\n",
    "\n",
    "We set up the testing problem with `pyRVtest.problem` and we store this as a variable `testing_problem`:\n"
   ]
  },
  {
   "cell_type": "code",
   "execution_count": 6,
   "metadata": {
    "ExecuteTime": {
     "end_time": "2024-08-07T02:19:39.707567400Z",
     "start_time": "2024-08-07T02:19:39.516672500Z"
    }
   },
   "outputs": [],
   "source": [
    "testing_problem = pyRVtest.Problem(\n",
    "    cost_formulation = (\n",
    "        pyRVtest.Formulation('0 + sugar', absorb = 'C(firm_ids)' )\n",
    "    ),\n",
    "    instrument_formulation = (\n",
    "        pyRVtest.Formulation('0 + demand_instruments0 + demand_instruments1')\n",
    "    ),\n",
    "    model_formulations = (\n",
    "        pyRVtest.ModelFormulation(model_downstream='bertrand', ownership_downstream='firm_ids'),\n",
    "        pyRVtest.ModelFormulation(model_downstream='monopoly', ownership_downstream='firm_ids')\n",
    "    ),\n",
    "    product_data = product_data,\n",
    "    demand_results = pyblp_results\n",
    ")"
   ]
  },
  {
   "cell_type": "markdown",
   "metadata": {},
   "source": [
    "Detailed information on the input accepted by :class:`Problem` and how to specify them can be found in the API documentation. Below we clarify the inputs (observed exogenous cost shifters, instruments for testing conduct, and models to be tested)  in this particular example:\n",
    "\n",
    "* `cost_formulation`: Here, the researcher specifies the observable linear shifters of marginal cost (in the current version of the package, these must be exogenous variables).  In this example, we have defined the cost formulation as `pyRVtest.Formulation('0 + sugar', absorb = 'C(firm_ids)' )`.  Here, `0` means no constant. We are also including the variable `sugar` as an observed cost shifter and this variable must be in the `product_data`.  Finally `absorb = 'C(firm_ids)'` specifies that we are including firm fixed effects which will be absorbed. The variable `firm_ids` must also be in the `product_data`.\n",
    "\n",
    "* `instrument_formulation`: Here, the researcher specifies the set of instruments she wants to use to test conduct. In this example, we will use one set of instruments to test conduct which contains two variables, `demand_instruments0` and `demand_instruments1`. Thus, we have defined the instrument formulation as `pyRVtest.Formulation('0 + demand_instruments0 + demand_instruments1')`.  Here, `0` means no constant and this should always be specified as a 0.  Both `demand_instruments0` and `demand_instruments1` must also be in the `product_data`.  It is possible to test conduct separately for more than one set of instruments as shown in the example below.\n",
    "\n",
    "* `model_formulations`: Here, we have specified two ModelFormulations and therefore two models to test. The first model is specified as `pyRVtest.ModelFormulation(model_downstream='bertrand', ownership_downstream='firm_ids')` `model_downstream = 'bertrand'` indicates that retail prices are set according to Bertrand.  `ownership_downstream='firm_ids'` specifies that the ownership matrix in each market should be built from the variable `firm_id` in the `product_data`.  For testing more than two models, see the example below. To find the full list of models supported by pyRVtest and their associated :class:`ModelFormulation` see the [Library of Models](https://pyrvtest.readthedocs.io/en/stable/_notebooks/model_library.html) page."
   ]
  },
  {
   "cell_type": "code",
   "execution_count": 7,
   "metadata": {
    "ExecuteTime": {
     "end_time": "2024-08-07T02:19:39.729570400Z",
     "start_time": "2024-08-07T02:19:39.684691Z"
    }
   },
   "outputs": [
    {
     "data": {
      "text/plain": "Dimensions:\n=========================\n T    N     M    L   d_z0\n---  ----  ---  ---  ----\n94   2256   2    1    2  \n=========================\n\nFormulations:\n==========================================================\nColumn Indices:            0                    1         \n----------------  -------------------  -------------------\nw: Marginal Cost         sugar                            \nz0: Instruments   demand_instruments0  demand_instruments1\n==========================================================\n\nModels:\n=========================================\n                          0         1    \n---------------------  --------  --------\n Model - Downstream    bertrand  monopoly\n  Model - Upstream       None      None  \nFirm IDs - Downstream  firm_ids  monopoly\n Firm IDs - Upstream     None      None  \n      VI Index           None      None  \n Cost Scaling Column     None      None  \n      Unit Tax           None      None  \n    Advalorem Tax        None      None  \n   Advalorem Payer       None      None  \nUser Supplied Markups    None      None  \n========================================="
     },
     "execution_count": 7,
     "metadata": {},
     "output_type": "execute_result"
    }
   ],
   "source": [
    "testing_problem"
   ]
  },
  {
   "cell_type": "markdown",
   "metadata": {},
   "source": [
    "The first table `Dimensions` reports the following statistics:\n",
    "\n",
    "* $T$ = number of markets\n",
    "\n",
    "* $N$ = number of observations\n",
    "\n",
    "* $M$ = number of models (each specified by a model formulation)\n",
    "\n",
    "* $L$ = number of instrument sets (each specified by an instrument formulation)\n",
    "\n",
    "* $d\\_z_0$ = number of instruments in the first instrument set (with more than one instrument formulation, additional columns $d\\_z_1$, $d\\_z_2$, ... $d\\_z_{(L-1)}$ would be reported)\n",
    "\n",
    "The second table `Formulations` reports the variables specified as observed cost shifters and excluded instruments. The first row indicates that `sugar` is the only included observed cost shifter (ignoring the fixed effects).  The second row indicates that `demand_instruments0` and `demand_instruments1` are the excluded instruments for testing each model.\n",
    "\n",
    "The third table `Models` specifies the models being tested, where each model is a column in the table\n",
    "\n",
    "* $\\textbf{Model-Downstream}$ reports the name of the model of firm conduct.  For vertical models of wholesaler and retailer behavior, this reports the nature of retailer conduct.\n",
    "\n",
    "* $\\textbf{Model-Upstream}$ reports, for vertical models with wholesalers and retailers, the nature of wholesaler conduct. In this example, we are ignoring upstream behavior and assuming manufacturers set retail prices directly as in :ref:`references: Nevo (2001)`.\n",
    "\n",
    "* $\\textbf{Firm Ids - Downstream}$ is the variable in `product_data` used to make the ownership matrix for setting retail conduct (prices or quantities).  If monopoly is specified as Model-Downstream, then Firm id - Downstream will default to monopoly and the ownership matrix in each market will be a matrix of ones.\n",
    "\n",
    "* $\\textbf{Firm Ids - Upstream}$ is the same as $\\textbf{Firm IDs - Downstream}$ but for wholesale price or quantity behavior.\n",
    "\n",
    "* $\\textbf{VI Index}$ is the name of the dummy variable indicating whether retailer and wholesaler are vertically integrated.\n",
    "\n",
    "* $\\textbf{User Supplied Markups}$ indicates if the user has chosen to input their own markup computation instead of choosing a prespecified model for which the package will compute markups.\n",
    "\n",
    "Additionally, the table contains outputs that are relevant when taxes are levied in the markets being studied ($\\textbf{Unit Tax}$, $\\textbf{Advalorem Tax}$, $\\textbf{Advalorem Payer}$). In this example, there are no taxes in the market for cereal.  These will be discussed in the testing with taxes example below."
   ]
  },
  {
   "cell_type": "markdown",
   "metadata": {},
   "source": [
    "### Running the Testing Procedure\n",
    "Now that the problem is set up, we can run the test, which we do with the following code.\n",
    "\n",
    "Given that we define the variable `testing_problem` as pyRVtest.problem, we must write `testing_problem.solve` in the first line.  There are two user specified options in running the test:\n",
    "\n",
    "* `demand_adjustment`: `False` indicates that the user does not want to adjust standard errors to account for two-step estimation with demand. `True` indicates standard errors should be adjusted to account for demand estimation.\n",
    "\n",
    "* `clustering_adjustment`: `False` means no clustering. `True` indicates that all standard errors should be clustered.  In this case, a variable called `clustering_ids` which indicates the cluster to which each group belongs needs to appear in the `product_data`. See example below.\n",
    "\n",
    "Both of these adjustments are implemented according to the formulas in Appendix C of [Duarte, Magnolfi, Sølvsten, and Sullivan (2023)](https://arxiv.org/abs/2301.06720).\n"
   ]
  },
  {
   "cell_type": "code",
   "execution_count": 8,
   "metadata": {
    "ExecuteTime": {
     "end_time": "2024-08-07T02:19:40.036869Z",
     "start_time": "2024-08-07T02:19:39.694055800Z"
    }
   },
   "outputs": [
    {
     "name": "stdout",
     "output_type": "stream",
     "text": [
      "Computing Markups ... \n",
      "Total Time is ... 0.2773783206939697\n"
     ]
    },
    {
     "data": {
      "text/plain": "\n\nTesting Results - Instruments z0:\n=============================================================================\n  TRV:                 |   F-stats:                 |    MCS:                \n--------  ---  ------  |  ----------  ---  -------  |  --------  ------------\n models    0     1     |    models     0      1     |   models   MCS p-values\n--------  ---  ------  |  ----------  ---  -------  |  --------  ------------\n   0      nan  -1.144  |      0       nan   13.3    |     0          1.0     \n                       |                   *** ^^^  |                        \n   1      nan   nan    |      1       nan    nan    |     1         0.252    \n                       |                            |                        \n=============================================================================\nSignificance of size and power diagnostic reported below each F-stat                                                                   \n*, **, or *** indicate that F > cv for a worst-case size of 0.125, 0.10, and 0.075 given d_z and rho                                                                   \n^, ^^, or ^^^ indicate that F > cv for a best-case power of 0.50, 0.75, and 0.95 given d_z and rho                                                                   \nappropriate critical values for size are stored in the variable F_cv_size_list of the pyRVtest results class                                                                   \nappropriate critical values for power are stored in the variable F_cv_power_list of the pyRVtest results class                                                                   \n==========================================================================="
     },
     "execution_count": 8,
     "metadata": {},
     "output_type": "execute_result"
    }
   ],
   "source": [
    "testing_results = testing_problem.solve(\n",
    "    demand_adjustment=False,\n",
    "    clustering_adjustment=False\n",
    ")\n",
    "testing_results"
   ]
  },
  {
   "cell_type": "markdown",
   "metadata": {},
   "source": [
    "The result table is split into three parts: the pairwise RV test statistics, the pairwise F-statistics, and the model confidence set p-values.  Details on these objects and how they are computed can be found in [Duarte, Magnolfi, Sølvsten, and Sullivan (2023)](https://arxiv.org/abs/2301.06720).\n",
    "\n",
    "* The first part of the table reports the pairwise RV test statistic given the specified adjustments to the standard errors. In this example, there is one RV test statistic as we are only testing two models.  Elements on and below the main diagonal in the RV and F-statistic block are set to \"nan\" since both RV tests and F-statistics are symmetric for a pair of models. A negative test statistic suggests better fit of the row model, in this case, Bertrand.  The critical values for each $T^{RV}$ are $\\pm$ 1.96, so the RV test cannot reject the null of equal fit of the two models.\n",
    "\n",
    "* The second part reports the pairwise F-statistics, again with the specified adjustments to the standard errors.  The symbols underneath each F-statistic indicate whether the corresponding F-statistic is weak for size or for power. The appropriate critical values for each F-statistic depend on the number of instruments the researcher is using, as well as the value of the scaling parameter $\\rho$. In the above table, we see that the F-statistic is associated with a symbol of \"***\" for size. This means that the probability of incorrectly rejecting the null if it is true (Type-I error) is at most 7.5%. The same F-statistic is associated with \"^^^\" for power, meaning that the probability of rejecting the null if it is false is at least 95%. Therefore the instruments in this example are neither weak for size nor for power.\n",
    "\n",
    "* Finally, the p-values associated with the model confidence set are reported. To interpret these $p$-values, a researcher chooses a significance level $\\alpha$.  Any model whose $p$-value is below $\\alpha$ is rejected.  The models with $p$-values above $\\alpha$ cannot be rejected by the instruments and the researcher should conclude that they have equal fit.  Thus, in this example, for an $\\alpha = 0.05$, the researcher is left with a model confidence set containing both models.\n",
    "\n",
    "The testing procedure also stores additional output which the user can access after running the testing code. A full list of available output can be found in :class:`ProblemResults`.\n",
    "\n",
    "As an example, the procedure stores the markups for each model. In the above code, we stored `testing_problem.solve()` as the variable `testing_results.  Thus, to access the markups, you type\n"
   ]
  },
  {
   "cell_type": "code",
   "execution_count": 9,
   "metadata": {
    "ExecuteTime": {
     "end_time": "2024-08-07T02:19:40.036869Z",
     "start_time": "2024-08-07T02:19:40.002835300Z"
    }
   },
   "outputs": [
    {
     "data": {
      "text/plain": "[array([[0.03616274],\n        [0.02752501],\n        [0.04300875],\n        ...,\n        [0.03948227],\n        [0.02837644],\n        [0.04313683]]),\n array([[0.07839009],\n        [0.04966324],\n        [0.08338118],\n        ...,\n        [0.08728693],\n        [0.05866822],\n        [0.09141367]])]"
     },
     "execution_count": 9,
     "metadata": {},
     "output_type": "execute_result"
    }
   ],
   "source": [
    "testing_results.markups"
   ]
  },
  {
   "cell_type": "markdown",
   "metadata": {},
   "source": [
    "where the first array, `testing_results.markups[0]` stores the markups for model 0 and the second array `testing_results.markups[1]` stores the markups for model 1."
   ]
  },
  {
   "cell_type": "markdown",
   "metadata": {},
   "source": [
    "### Example with more than two models and more than one instrument set\n",
    "\n",
    "Here we consider a more complicated example to illustrate more of the features of pyRVtest.  Here, we are going to test five models of vertical conduct:\n",
    "1. manufacturers set monopoly retail prices\n",
    "2. manufacturers set Bertrand retail prices\n",
    "3. manufacturers set Cournot retail quantities\n",
    "4. manufacturers set Bertrand wholesale prices and retailers set monopoly retail prices\n",
    "5. manufacturers set monopoly wholesale prices and retailers set monopoly retail prices\n",
    "\n",
    "To accumulate evidence, we are going to separatley use two different sets of instruments to test these models.\n",
    "\n",
    "We are also going to adjust all standard errors to account for two-step estimation coming from demand, as well as cluster standard errors at the market level.  To implement these adjustments, we need to add a variable to the `product_data` called `clustering_ids`:"
   ]
  },
  {
   "cell_type": "code",
   "execution_count": 10,
   "metadata": {
    "ExecuteTime": {
     "end_time": "2024-08-07T02:19:40.036869Z",
     "start_time": "2024-08-07T02:19:40.023843100Z"
    }
   },
   "outputs": [],
   "source": [
    "product_data['clustering_ids'] = product_data.market_ids"
   ]
  },
  {
   "cell_type": "markdown",
   "metadata": {},
   "source": [
    "Next, we can initialize the testing problem.\n",
    "\n",
    "Notice that to add more models or more instrument sets, we add model formulations and instrument formulations.  Further notice that by specifying `demand_adjustment` =  `True` and `clustering_adjustment` = `True` we turn on two-step adjustments to the standard errors as well as clustering at the level indicated by `product_data.clustering_ids`.\n"
   ]
  },
  {
   "cell_type": "code",
   "execution_count": 11,
   "metadata": {
    "ExecuteTime": {
     "end_time": "2024-08-07T02:19:40.223063Z",
     "start_time": "2024-08-07T02:19:40.026759800Z"
    }
   },
   "outputs": [
    {
     "data": {
      "text/plain": "Dimensions:\n===============================\n T    N     M    L   d_z0  d_z1\n---  ----  ---  ---  ----  ----\n94   2256   5    2    2     3  \n===============================\n\nFormulations:\n===============================================================================\nColumn Indices:            0                    1                    2         \n----------------  -------------------  -------------------  -------------------\nw: Marginal Cost         sugar                                                 \nz0: Instruments   demand_instruments0  demand_instruments1                     \nz1: Instruments   demand_instruments2  demand_instruments3  demand_instruments4\n===============================================================================\n\nModels:\n=======================================================================\n                          0         1         2         3         4    \n---------------------  --------  --------  --------  --------  --------\n Model - Downstream    monopoly  bertrand  cournot   monopoly  monopoly\n  Model - Upstream       None      None      None    bertrand  monopoly\nFirm IDs - Downstream  monopoly  firm_ids  firm_ids  monopoly  monopoly\n Firm IDs - Upstream     None      None      None    firm_ids  monopoly\n      VI Index           None      None      None      None      None  \n Cost Scaling Column     None      None      None      None      None  \n      Unit Tax           None      None      None      None      None  \n    Advalorem Tax        None      None      None      None      None  \n   Advalorem Payer       None      None      None      None      None  \nUser Supplied Markups    None      None      None      None      None  \n======================================================================="
     },
     "execution_count": 11,
     "metadata": {},
     "output_type": "execute_result"
    }
   ],
   "source": [
    "testing_problem = pyRVtest.Problem(\n",
    "    cost_formulation=(\n",
    "        pyRVtest.Formulation('1 + sugar', absorb='C(firm_ids)')\n",
    "    ),\n",
    "    instrument_formulation=(\n",
    "        pyRVtest.Formulation('0 + demand_instruments0 + demand_instruments1'),\n",
    "        pyRVtest.Formulation('0 + demand_instruments2 + demand_instruments3 + demand_instruments4')\n",
    "    ),\n",
    "    model_formulations=(\n",
    "        pyRVtest.ModelFormulation(model_downstream='monopoly', ownership_downstream='firm_ids'),\n",
    "        pyRVtest.ModelFormulation(model_downstream='bertrand', ownership_downstream='firm_ids'),\n",
    "        pyRVtest.ModelFormulation(model_downstream='cournot', ownership_downstream='firm_ids'),\n",
    "        pyRVtest.ModelFormulation(\n",
    "            model_downstream='monopoly',\n",
    "            ownership_downstream='firm_ids',\n",
    "            model_upstream='bertrand',\n",
    "            ownership_upstream='firm_ids'\n",
    "        ),\n",
    "        pyRVtest.ModelFormulation(\n",
    "            model_downstream='monopoly',\n",
    "            ownership_downstream='firm_ids',\n",
    "            model_upstream='monopoly',\n",
    "            ownership_upstream='firm_ids'\n",
    "        )\n",
    "    ),\n",
    "    product_data=product_data,\n",
    "    demand_results=pyblp_results\n",
    ")\n",
    "testing_problem"
   ]
  },
  {
   "cell_type": "markdown",
   "metadata": {},
   "source": [
    "Now, we can run `testing_problem.solve` to output the testing results. Each table here shows the results for each instrument set.  The tables appear in the order of the instrument sets specified by the user in `instrument_formulations`."
   ]
  },
  {
   "cell_type": "code",
   "execution_count": 12,
   "metadata": {
    "ExecuteTime": {
     "end_time": "2024-08-07T02:20:11.471210600Z",
     "start_time": "2024-08-07T02:19:40.149860300Z"
    }
   },
   "outputs": [
    {
     "name": "stdout",
     "output_type": "stream",
     "text": [
      "Computing Markups ... \n",
      "Total Time is ... 31.319488763809204\n"
     ]
    },
    {
     "data": {
      "text/plain": "\n\nTesting Results - Instruments z0:\n======================================================================================================================\n  TRV:                                       |   F-stats:                                    |    MCS:                \n--------  ---  -----  -----  ------  ------  |  ----------  ---  -----  -----  -----  -----  |  --------  ------------\n models    0     1      2      3       4     |    models     0     1      2      3      4    |   models   MCS p-values\n--------  ---  -----  -----  ------  ------  |  ----------  ---  -----  -----  -----  -----  |  --------  ------------\n   0      nan  0.277  0.346  -0.005  -0.486  |      0       nan   0.5    0.4    0.0    0.0   |     0         0.965    \n                                             |                   ***    ***    ***    ***    |                        \n   1      nan   nan   0.171  -0.02   -0.486  |      1       nan   nan    1.4    0.0    0.0   |     1         0.979    \n                                             |                          ***    ***    ***    |                        \n   2      nan   nan    nan   -0.022  -0.49   |      2       nan   nan    nan    0.0    0.0   |     2          1.0     \n                                             |                                 ***    ***    |                        \n   3      nan   nan    nan    nan    -0.283  |      3       nan   nan    nan    nan    0.1   |     3         0.983    \n                                             |                                        ***    |                        \n   4      nan   nan    nan    nan     nan    |      4       nan   nan    nan    nan    nan   |     4         0.958    \n                                             |                                               |                        \n======================================================================================================================\n\nTesting Results - Instruments z1:\n======================================================================================================================\n  TRV:                                       |   F-stats:                                    |    MCS:                \n--------  ---  -----  -----  ------  ------  |  ----------  ---  -----  -----  -----  -----  |  --------  ------------\n models    0     1      2      3       4     |    models     0     1      2      3      4    |   models   MCS p-values\n--------  ---  -----  -----  ------  ------  |  ----------  ---  -----  -----  -----  -----  |  --------  ------------\n   0      nan  0.035  0.175  -0.189  -0.875  |      0       nan   0.9    0.8    0.0    0.1   |     0         0.861    \n                                             |                   ***    ***    ***    ***    |                        \n   1      nan   nan   1.581  -0.168  -0.844  |      1       nan   nan    1.6    0.0    0.1   |     1          0.29    \n                                             |                          ***    ***    ***    |                        \n   2      nan   nan    nan   -0.191  -0.851  |      2       nan   nan    nan    0.0    0.1   |     2          1.0     \n                                             |                                 ***    ***    |                        \n   3      nan   nan    nan    nan    -0.937  |      3       nan   nan    nan    nan    0.7   |     3         0.959    \n                                             |                                        ***    |                        \n   4      nan   nan    nan    nan     nan    |      4       nan   nan    nan    nan    nan   |     4         0.594    \n                                             |                                               |                        \n======================================================================================================================\nSignificance of size and power diagnostic reported below each F-stat                                                                                                            \n*, **, or *** indicate that F > cv for a worst-case size of 0.125, 0.10, and 0.075 given d_z and rho                                                                                                            \n^, ^^, or ^^^ indicate that F > cv for a best-case power of 0.50, 0.75, and 0.95 given d_z and rho                                                                                                            \nappropriate critical values for size are stored in the variable F_cv_size_list of the pyRVtest results class                                                                                                            \nappropriate critical values for power are stored in the variable F_cv_power_list of the pyRVtest results class                                                                                                            \n===================================================================================================================="
     },
     "execution_count": 12,
     "metadata": {},
     "output_type": "execute_result"
    }
   ],
   "source": [
    "testing_results = testing_problem.solve(\n",
    "    demand_adjustment=True,\n",
    "    clustering_adjustment=True\n",
    ")\n",
    "testing_results"
   ]
  },
  {
   "cell_type": "markdown",
   "metadata": {},
   "source": [
    "This output has a similar format to Table 5 in [Duarte, Magnolfi, Sølvsten, and Sullivan (2023)](https://arxiv.org/abs/2301.06720). Each testing results panel, corresponding to a set of instruments, reports in three separate blocks the RV test statistics for each pair of models, effective F-statistic for each pair of models, and MCS p-value for the row model. See the above description for an explanation of each.\n",
    "\n",
    "In interpreting these results, note that instruments z_0 and z_1 contain 2 and 3 instruments respectively.  Since the number of instruments is between 2-9, there are no size distortions above 0.025 for any model pair and instruments are strong for size.  However, the instruments are weak for power as each pairwise F-statistic is below the critical value corresponding to best-case power of 0.95.  Unsurprisingly then, no model is ever rejected from the MCS. These results reflect the fact that the data used in the tutorial do not provide the appropriate variation to test conduct. As such, the results should not be interpreted as to draw any conclusion about the nature of conduct in this empirical environment. We plan to include a more economically interesting example with future releases.\n"
   ]
  },
  {
   "cell_type": "markdown",
   "metadata": {},
   "source": [
    "### Testing with Taxes\n",
    "Suppose now that we want to run the testing procedure in a setting with taxes (specifically ad valorem or unit taxes). Having taxes in the testing set up changes the first order conditions faced by the firms. To incorporate them using pyRVtest, we can specify additional options in the :class:`ModelFormulation`:\n",
    "\n",
    "* `unit_tax`: a vector of unit taxes, measured in the same units as price, which should correspond to a data column in the `product_data`.\n",
    "\n",
    "* `advalorem_tax`: a vector of ad valorem tax rates, measured between 0 and 1, which should correspond to a data column in the `product_data`.\n",
    "\n",
    "* `advalorem_payer`: party responsible for paying the advalorem tax. In our example this is the consumer (other options are 'firm' and 'None').\n",
    "\n",
    "\n",
    "Here, we add ad valorem and unit tax data to the `product_data` for illustrative purposes.\n"
   ]
  },
  {
   "cell_type": "code",
   "execution_count": 13,
   "metadata": {
    "ExecuteTime": {
     "end_time": "2024-08-07T02:20:11.624966100Z",
     "start_time": "2024-08-07T02:20:11.550196Z"
    }
   },
   "outputs": [],
   "source": [
    "# additional variables for tax testing\n",
    "product_data['unit_tax'] = .5\n",
    "product_data['advalorem_tax'] = .5\n",
    "product_data['lambda'] = 1"
   ]
  },
  {
   "cell_type": "markdown",
   "metadata": {},
   "source": [
    "Next, initialize the testing problem. Note here that the first model formulation now specifies our additional variables."
   ]
  },
  {
   "cell_type": "code",
   "execution_count": 14,
   "metadata": {
    "ExecuteTime": {
     "end_time": "2024-08-07T02:20:11.700746Z",
     "start_time": "2024-08-07T02:20:11.571098500Z"
    }
   },
   "outputs": [
    {
     "data": {
      "text/plain": "Dimensions:\n=========================\n T    N     M    L   d_z0\n---  ----  ---  ---  ----\n94   2256   3    1    2  \n=========================\n\nFormulations:\n==========================================================\nColumn Indices:            0                    1         \n----------------  -------------------  -------------------\nw: Marginal Cost         sugar                            \nz0: Instruments   demand_instruments0  demand_instruments1\n==========================================================\n\nModels:\n===================================================================\n                             0           1               2         \n---------------------  -------------  --------  -------------------\n Model - Downstream      bertrand     bertrand  perfect_competition\n  Model - Upstream         None         None           None        \nFirm IDs - Downstream    firm_ids     firm_ids       firm_ids      \n Firm IDs - Upstream       None         None           None        \n      VI Index             None         None           None        \n Cost Scaling Column      lambda        None           None        \n      Unit Tax           unit_tax       None           None        \n    Advalorem Tax      advalorem_tax    None           None        \n   Advalorem Payer       consumer       None           None        \nUser Supplied Markups      None         None           None        \n==================================================================="
     },
     "execution_count": 14,
     "metadata": {},
     "output_type": "execute_result"
    }
   ],
   "source": [
    "testing_problem_taxes = pyRVtest.Problem(\n",
    "    cost_formulation=(\n",
    "        pyRVtest.Formulation('0 + sugar', absorb='C(firm_ids)')\n",
    "    ),\n",
    "    instrument_formulation=(\n",
    "        pyRVtest.Formulation('0 + demand_instruments0 + demand_instruments1')\n",
    "    ),\n",
    "    model_formulations=(\n",
    "        pyRVtest.ModelFormulation(\n",
    "            model_downstream='bertrand',\n",
    "            ownership_downstream='firm_ids',\n",
    "            cost_scaling='lambda',\n",
    "            unit_tax='unit_tax',\n",
    "            advalorem_tax='advalorem_tax',\n",
    "            advalorem_payer='consumer'),\n",
    "        pyRVtest.ModelFormulation(\n",
    "            model_downstream='bertrand',\n",
    "            ownership_downstream='firm_ids'\n",
    "        ),\n",
    "        pyRVtest.ModelFormulation(\n",
    "            model_downstream='perfect_competition',\n",
    "            ownership_downstream='firm_ids'\n",
    "        )\n",
    "    ),\n",
    "    product_data=product_data,\n",
    "    demand_results=pyblp_results\n",
    ")\n",
    "testing_problem_taxes"
   ]
  },
  {
   "cell_type": "markdown",
   "metadata": {},
   "source": [
    "As mentioned above, the Models table includes additional details related to testing with taxes:\n",
    "\n",
    "* Unit Tax: the column in `product_data` corresponding to the unit tax\n",
    "\n",
    "* Advalorem Tax : the column in `product_data` corresponding to the ad valorem tax\n",
    "\n",
    "* Advalorem Payer: who is responsible for paying the tax\n",
    "\n",
    "Finally, output the testing results."
   ]
  },
  {
   "cell_type": "code",
   "execution_count": 15,
   "metadata": {
    "ExecuteTime": {
     "end_time": "2024-08-07T02:20:11.888761100Z",
     "start_time": "2024-08-07T02:20:11.650145200Z"
    }
   },
   "outputs": [
    {
     "name": "stdout",
     "output_type": "stream",
     "text": [
      "Computing Markups ... \n",
      "Total Time is ... 0.20461678504943848\n"
     ]
    },
    {
     "data": {
      "text/plain": "\n\nTesting Results - Instruments z0:\n=========================================================================================\n  TRV:                         |   F-stats:                     |    MCS:                \n--------  ---  ------  ------  |  ----------  ---  ----  -----  |  --------  ------------\n models    0     1       2     |    models     0    1      2    |   models   MCS p-values\n--------  ---  ------  ------  |  ----------  ---  ----  -----  |  --------  ------------\n   0      nan  -1.936  -2.058  |      0       nan  -0.0   0.2   |     0          1.0     \n                               |                         ***    |                        \n   1      nan   nan    -1.53   |      1       nan  nan    4.4   |     1         0.053    \n                               |                         ***    |                        \n   2      nan   nan     nan    |      2       nan  nan    nan   |     2         0.078    \n                               |                                |                        \n=========================================================================================\nSignificance of size and power diagnostic reported below each F-stat                                                                               \n*, **, or *** indicate that F > cv for a worst-case size of 0.125, 0.10, and 0.075 given d_z and rho                                                                               \n^, ^^, or ^^^ indicate that F > cv for a best-case power of 0.50, 0.75, and 0.95 given d_z and rho                                                                               \nappropriate critical values for size are stored in the variable F_cv_size_list of the pyRVtest results class                                                                               \nappropriate critical values for power are stored in the variable F_cv_power_list of the pyRVtest results class                                                                               \n======================================================================================="
     },
     "execution_count": 15,
     "metadata": {},
     "output_type": "execute_result"
    }
   ],
   "source": [
    "testing_results = testing_problem_taxes.solve(\n",
    "    demand_adjustment=False,\n",
    "    clustering_adjustment=False\n",
    ")\n",
    "testing_results"
   ]
  },
  {
   "cell_type": "markdown",
   "metadata": {},
   "source": [
    "### Storing Results\n",
    "\n",
    "If you are working on a problem that runs over the course of several days, PyBLP and pyRVtest make it easy for you to store your results.\n",
    "\n",
    "For example, suppose that you want to estimate one demand system and then run multiple testing scenarios. In this case, you can simply use the PyBLP pickling method."
   ]
  },
  {
   "cell_type": "code",
   "execution_count": 16,
   "metadata": {
    "ExecuteTime": {
     "end_time": "2024-08-07T02:20:12.611340500Z",
     "start_time": "2024-08-07T02:20:11.891762500Z"
    }
   },
   "outputs": [],
   "source": [
    "pyblp_results.to_pickle('my_demand_estimates')"
   ]
  },
  {
   "cell_type": "markdown",
   "metadata": {},
   "source": [
    "And read them in similarly:"
   ]
  },
  {
   "cell_type": "code",
   "execution_count": 17,
   "metadata": {
    "ExecuteTime": {
     "end_time": "2024-08-07T02:20:12.921085100Z",
     "start_time": "2024-08-07T02:20:12.613333800Z"
    }
   },
   "outputs": [],
   "source": [
    "old_pyblp_results = pyblp.read_pickle('my_demand_estimates')"
   ]
  },
  {
   "cell_type": "markdown",
   "metadata": {},
   "source": [
    "You can now use these demand estimates to run additional iterations of testing without having to re-estimate demand each time.\n",
    "\n",
    "Additionally, if you want to save your testing results so that you can access them in the future, you can do so with the same method in pyRVtest."
   ]
  },
  {
   "cell_type": "code",
   "execution_count": 18,
   "metadata": {
    "ExecuteTime": {
     "end_time": "2024-08-07T02:20:13.739043500Z",
     "start_time": "2024-08-07T02:20:12.922085700Z"
    }
   },
   "outputs": [],
   "source": [
    "testing_results.to_pickle('my_testing_results')"
   ]
  },
  {
   "cell_type": "markdown",
   "metadata": {},
   "source": [
    "And read them back in to analyze:"
   ]
  },
  {
   "cell_type": "code",
   "execution_count": 19,
   "metadata": {
    "ExecuteTime": {
     "end_time": "2024-08-07T02:20:14.164492800Z",
     "start_time": "2024-08-07T02:20:13.739043500Z"
    }
   },
   "outputs": [
    {
     "data": {
      "text/plain": "[array([[0.03616274],\n        [0.02752501],\n        [0.04300875],\n        ...,\n        [0.03948227],\n        [0.02837644],\n        [0.04313683]]),\n array([[0.03616274],\n        [0.02752501],\n        [0.04300875],\n        ...,\n        [0.03948227],\n        [0.02837644],\n        [0.04313683]]),\n array([[0.],\n        [0.],\n        [0.],\n        ...,\n        [0.],\n        [0.],\n        [0.]])]"
     },
     "execution_count": 19,
     "metadata": {},
     "output_type": "execute_result"
    }
   ],
   "source": [
    "old_testing_results = pyRVtest.read_pickle('my_testing_results')\n",
    "old_testing_results.markups"
   ]
  }
 ],
 "metadata": {
  "kernelspec": {
   "display_name": "Python 3 (ipykernel)",
   "language": "python",
   "name": "python3"
  },
  "language_info": {
   "codemirror_mode": {
    "name": "ipython",
    "version": 3
   },
   "file_extension": ".py",
   "mimetype": "text/x-python",
   "name": "python",
   "nbconvert_exporter": "python",
   "pygments_lexer": "ipython3",
   "version": "3.9.7"
  }
 },
 "nbformat": 4,
 "nbformat_minor": 1
}
